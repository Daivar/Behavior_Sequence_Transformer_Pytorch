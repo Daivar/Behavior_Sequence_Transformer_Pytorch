{
  "nbformat": 4,
  "nbformat_minor": 0,
  "metadata": {
    "colab": {
      "name": "Guessing_number_game.ipynb",
      "provenance": [],
      "authorship_tag": "ABX9TyP+JMkxeLIBzbF7mBJ6C/l9",
      "include_colab_link": true
    },
    "kernelspec": {
      "name": "python3",
      "display_name": "Python 3"
    },
    "language_info": {
      "name": "python"
    }
  },
  "cells": [
    {
      "cell_type": "markdown",
      "metadata": {
        "id": "view-in-github",
        "colab_type": "text"
      },
      "source": [
        "<a href=\"https://colab.research.google.com/github/Daivar/Behavior_Sequence_Transformer_Pytorch/blob/main/Guessing_number_game.ipynb\" target=\"_parent\"><img src=\"https://colab.research.google.com/assets/colab-badge.svg\" alt=\"Open In Colab\"/></a>"
      ]
    },
    {
      "cell_type": "code",
      "source": [
        "import random\n",
        "\n",
        "def guessing_game():\n",
        "  randNum = random.randrange(0,100) # this line generates a random number\n",
        "  guess = int(input('Your guess: ')) # ask user for a number\n",
        "  # print (randNum)\n",
        "  while True:\n",
        "      try:\n",
        "    \n",
        "        if (guess == randNum):\n",
        "            print ('Just right!')\n",
        "            break\n",
        "        \n",
        "        if (guess > randNum):\n",
        "            print ('Too high')\n",
        "            guess = int(input('Your guess: ')) \n",
        "        if (guess < randNum):\n",
        "            print ('Too low')\n",
        "            guess = int(input('Your guess: '))\n",
        "      except (ValueError) as err:\n",
        "            print('Guess should be a number between 0 and 100') \n",
        "            guess = int(input('Your guess: '))\n",
        "       \n",
        "\n",
        "guessing_game()\n",
        "   "
      ],
      "metadata": {
        "colab": {
          "base_uri": "https://localhost:8080/"
        },
        "id": "L42ty4MxaWxm",
        "outputId": "c81de177-7872-44e6-8336-28a58b65b6f0"
      },
      "execution_count": 3,
      "outputs": [
        {
          "output_type": "stream",
          "name": "stdout",
          "text": [
            "Your guess: 12\n",
            "Too low\n",
            "Your guess: 102\n",
            "Too high\n",
            "Your guess: 50\n",
            "Too low\n",
            "Your guess: kkkkk\n",
            "Guess should be a number between 0 and 100\n",
            "Your guess: 70\n",
            "Too low\n",
            "Your guess: 80\n",
            "Too high\n",
            "Your guess: 75\n",
            "Just right!\n"
          ]
        }
      ]
    }
  ]
}